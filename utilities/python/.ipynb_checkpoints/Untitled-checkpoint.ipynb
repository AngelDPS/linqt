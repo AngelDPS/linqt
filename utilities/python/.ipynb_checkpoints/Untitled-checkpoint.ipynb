{
 "cells": [
  {
   "cell_type": "code",
   "execution_count": 64,
   "metadata": {},
   "outputs": [],
   "source": [
    "#!/usr/bin/python\n",
    "\n",
    "import numpy  as np\n",
    "import argparse\n",
    "\n",
    "parser = argparse.ArgumentParser(description='Compute the average of 2D Chebyshev Moments')\n",
    "parser.add_argument('FileList', metavar='L', type=str, nargs='+',\n",
    "                    help='The list of .chebmom2D files')\n",
    "parser.add_argument('-o', '--output',  type=str ,\n",
    "                    help='The name of the output file',default=\"out.chebmom2D\")\n",
    "\n",
    "filelist= parser.parse_args().FileList\n",
    "outfile = parser.parse_args().output\n",
    "\n",
    "\n",
    "data  = None;\n",
    "header= None;\n",
    "for inputfile in filelist:\n",
    "    with open(inputfile) as f:\n",
    "        current_header = f.readline()+f.readline()[:-1]#This remove the last newline char. \n",
    "\n",
    "        #Check if header had been read\n",
    "        #and that its the same as the current one\n",
    "        if header is not None:\n",
    "            if header != current_header:\n",
    "                break;\n",
    "\n",
    "        #If is the same or is had not been read\n",
    "        #save it.\n",
    "        header = current_header;\n",
    "\n",
    "    #Creata a zero array for data if is not\n",
    "    if data is None:\n",
    "        data = 0*np.genfromtxt(inputfile, dtype=None, skip_header=2);\n",
    "\n",
    "    #Then just summ it\n",
    "    data+=np.genfromtxt(inputfile, dtype=None, skip_header=2); \n",
    "\n",
    "#Compute average\n",
    "data/=len(filelist)    \n",
    "\n",
    "#Save with header\n",
    "np.savetxt(outfile, data, header=header,comments=\"\")"
   ]
  },
  {
   "cell_type": "code",
   "execution_count": 65,
   "metadata": {},
   "outputs": [
    {
     "data": {
      "text/plain": [
       "'NonEqOpSY-VXgraphene+MoTe2-SC5x7-NOSOCKPM_M600x600.chebmom2D'"
      ]
     },
     "execution_count": 65,
     "metadata": {},
     "output_type": "execute_result"
    }
   ],
   "source": [
    "\"NonEqOpSY-VXgraphene+MoTe2-SC5x7-NOSOCKPM_M600x600.chebmom2D\""
   ]
  },
  {
   "cell_type": "code",
   "execution_count": null,
   "metadata": {},
   "outputs": [],
   "source": []
  }
 ],
 "metadata": {
  "kernelspec": {
   "display_name": "Python 3",
   "language": "python",
   "name": "python3"
  },
  "language_info": {
   "codemirror_mode": {
    "name": "ipython",
    "version": 3
   },
   "file_extension": ".py",
   "mimetype": "text/x-python",
   "name": "python",
   "nbconvert_exporter": "python",
   "pygments_lexer": "ipython3",
   "version": "3.6.9"
  }
 },
 "nbformat": 4,
 "nbformat_minor": 2
}
