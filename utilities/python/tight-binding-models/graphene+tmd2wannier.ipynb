{
 "cells": [
  {
   "cell_type": "code",
   "execution_count": 1,
   "metadata": {},
   "outputs": [
    {
     "name": "stderr",
     "output_type": "stream",
     "text": [
      "C:\\Users\\jgarcia\\.conda\\envs\\kwant\\lib\\site-packages\\kwant\\solvers\\default.py:18: RuntimeWarning: MUMPS is not available, SciPy built-in solver will be used as a fallback. Performance can be very poor in this case.\n",
      "  \"Performance can be very poor in this case.\", RuntimeWarning)\n"
     ]
    }
   ],
   "source": [
    "import kwant\n",
    "import matplotlib.pyplot as plt\n",
    "import numpy as np\n",
    "from kwant import wraparound\n",
    "from matplotlib import pyplot\n",
    "from numpy import linalg as LA\n",
    "from numpy import kron\n",
    "import tinyarray\n",
    "import time\n",
    "import itertools\n",
    "#Custom functions\n",
    "from convert2LatGen import syst2txt, geo2txt\n",
    "import graphene\n"
   ]
  },
  {
   "cell_type": "code",
   "execution_count": 2,
   "metadata": {},
   "outputs": [
    {
     "name": "stdout",
     "output_type": "stream",
     "text": [
      "0.213042 0.123000 0.000000\n",
      "0.213042 -0.123000 0.000000\n",
      "0.000000 0.000000 0.246000\n",
      "0.000000 0.000000 0.000000\n",
      "-0.333333 -0.333333 0.000000\n"
     ]
    }
   ],
   "source": [
    "syst = graphene.make_bulk_graphene()                 \n",
    "\n",
    "hopping_params = {\n",
    "                    \"fermi_energy\":0.0,\\\n",
    "                    \"staggered_potential\":0.3,\\\n",
    "                    \"hopping_t0\":1.0,\\\n",
    "                    \"lambda_rso\":0.001,\\\n",
    "                    \"lambda_iso\":0.001,\\\n",
    "                    \"lambda_vz\" :0.001\n",
    "                };\n",
    "\n",
    "syst2txt(syst,\"output.dat\",hopping_params);\n",
    "geo2txt(syst, graphene.lattice_vectors, \"output.Geo\" );"
   ]
  },
  {
   "cell_type": "code",
   "execution_count": null,
   "metadata": {},
   "outputs": [],
   "source": []
  },
  {
   "cell_type": "code",
   "execution_count": null,
   "metadata": {},
   "outputs": [],
   "source": []
  }
 ],
 "metadata": {
  "kernelspec": {
   "display_name": "Python 3",
   "language": "python",
   "name": "python3"
  },
  "language_info": {
   "codemirror_mode": {
    "name": "ipython",
    "version": 3
   },
   "file_extension": ".py",
   "mimetype": "text/x-python",
   "name": "python",
   "nbconvert_exporter": "python",
   "pygments_lexer": "ipython3",
   "version": "3.7.3"
  }
 },
 "nbformat": 4,
 "nbformat_minor": 2
}
