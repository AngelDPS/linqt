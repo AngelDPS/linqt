{
 "cells": [
  {
   "cell_type": "code",
   "execution_count": 1,
   "metadata": {},
   "outputs": [],
   "source": [
    "import numpy as np\n",
    "import matplotlib.pyplot as plt"
   ]
  },
  {
   "cell_type": "code",
   "execution_count": 282,
   "metadata": {},
   "outputs": [],
   "source": [
    "lat = np.array([ [1,0,0],[0,2,0],[0,0,1]]);\n",
    "rec = np.linalg.inv(lat).T/2/np.pi ;\n",
    "xyz = [ [0,0,0],[0,0.5,0],[0,0,0]];\n",
    "sc = [4,5,2]; numcells = np.prod(supercell);\n",
    "grid  = np.meshgrid( *( np.linspace(0,1,n,endpoint=False) for n in sc ), indexing='ij' );\n",
    "kgrid = np.array([ np.sum([grid[i]*rec[i,j] for i in range(3)],axis=0) for j in range(3) ]);\n",
    "rgrid = np.array([ np.sum([grid[i]*lat[i,j] for i in range(3)],axis=0) for j in range(3) ]);\n"
   ]
  },
  {
   "cell_type": "code",
   "execution_count": 292,
   "metadata": {},
   "outputs": [],
   "source": [
    "def mask(x,y,z):\n",
    "    return (x**2 + y**2 + z**2 < 0.1).astype(int);\n",
    "\n",
    "def create_state(grid, mask ):\n",
    "    rvec = np.exp( np.random.random(grid[0].shape)*2j*np.pi );\n",
    "    kvec = np.fft.fftn(rvec);\n",
    "    return np.fft.ifftn(kvec*mask( *grid));\n",
    "\n",
    "state = create_state(grid, mask );\n",
    "\n"
   ]
  },
  {
   "cell_type": "code",
   "execution_count": 293,
   "metadata": {},
   "outputs": [
    {
     "data": {
      "text/plain": [
       "array([[[-0.01802453+0.06045466j, -0.01802453+0.06045466j],\n",
       "        [-0.03299038+0.01100275j, -0.03299038+0.01100275j],\n",
       "        [ 0.00941648-0.01851211j,  0.00941648-0.01851211j],\n",
       "        [ 0.05059122+0.01269863j,  0.05059122+0.01269863j],\n",
       "        [ 0.03363174+0.06150277j,  0.03363174+0.06150277j]],\n",
       "\n",
       "       [[-0.0758202 +0.08332648j, -0.0758202 +0.08332648j],\n",
       "        [-0.09078606+0.03387456j, -0.09078606+0.03387456j],\n",
       "        [-0.04837919+0.00435971j, -0.04837919+0.00435971j],\n",
       "        [-0.00720446+0.03557044j, -0.00720446+0.03557044j],\n",
       "        [-0.02416393+0.08437459j, -0.02416393+0.08437459j]],\n",
       "\n",
       "       [[-0.09869201+0.0255308j , -0.09869201+0.0255308j ],\n",
       "        [-0.11365787-0.02392111j, -0.11365787-0.02392111j],\n",
       "        [-0.071251  -0.05343597j, -0.071251  -0.05343597j],\n",
       "        [-0.03007627-0.02222524j, -0.03007627-0.02222524j],\n",
       "        [-0.04703575+0.02657891j, -0.04703575+0.02657891j]],\n",
       "\n",
       "       [[-0.04089634+0.00265899j, -0.04089634+0.00265899j],\n",
       "        [-0.05586219-0.04679293j, -0.05586219-0.04679293j],\n",
       "        [-0.01345533-0.07630778j, -0.01345533-0.07630778j],\n",
       "        [ 0.02771941-0.04509705j,  0.02771941-0.04509705j],\n",
       "        [ 0.01075993+0.0037071j ,  0.01075993+0.0037071j ]]])"
      ]
     },
     "execution_count": 293,
     "metadata": {},
     "output_type": "execute_result"
    }
   ],
   "source": [
    "rvec"
   ]
  },
  {
   "cell_type": "code",
   "execution_count": 281,
   "metadata": {},
   "outputs": [
    {
     "data": {
      "text/plain": [
       "(5, 4, 1)"
      ]
     },
     "execution_count": 281,
     "metadata": {},
     "output_type": "execute_result"
    }
   ],
   "source": [
    "kvec.shape"
   ]
  },
  {
   "cell_type": "code",
   "execution_count": 66,
   "metadata": {},
   "outputs": [],
   "source": [
    "def filter(x):\n",
    "    if np.real(x)>3: \n",
    "        return x;\n",
    "    else:\n",
    "        return 0;"
   ]
  },
  {
   "cell_type": "code",
   "execution_count": 70,
   "metadata": {},
   "outputs": [],
   "source": []
  },
  {
   "cell_type": "code",
   "execution_count": null,
   "metadata": {},
   "outputs": [],
   "source": []
  }
 ],
 "metadata": {
  "kernelspec": {
   "display_name": "Python 3",
   "language": "python",
   "name": "python3"
  },
  "language_info": {
   "codemirror_mode": {
    "name": "ipython",
    "version": 3
   },
   "file_extension": ".py",
   "mimetype": "text/x-python",
   "name": "python",
   "nbconvert_exporter": "python",
   "pygments_lexer": "ipython3",
   "version": "3.6.9"
  }
 },
 "nbformat": 4,
 "nbformat_minor": 2
}
