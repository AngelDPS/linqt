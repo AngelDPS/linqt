{
 "cells": [
  {
   "cell_type": "code",
   "execution_count": 1,
   "metadata": {},
   "outputs": [],
   "source": [
    "import kwant\n",
    "import matplotlib.pyplot as plt\n",
    "import numpy as np\n",
    "from kwant import wraparound\n",
    "from matplotlib import pyplot\n",
    "from numpy import linalg as LA\n",
    "from numpy import kron\n",
    "import tinyarray\n",
    "import time\n",
    "import itertools\n",
    "import sys\n",
    "sys.path.append('/home/ICN2/jgarcia/.local/sources/linqt/utilities/python/tight-binding/')\n",
    "\n",
    "#Custom functions\n",
    "from kwant2latgen import syst2txt, geo2txt\n",
    "import graphene\n"
   ]
  },
  {
   "cell_type": "code",
   "execution_count": 2,
   "metadata": {},
   "outputs": [],
   "source": [
    "syst = graphene.make_bulk_graphene()                 \n",
    "syst_name = \"graphene+iso-kwant\"\n",
    "hopping_params = {\n",
    "                    \"fermi_energy\":0.0,\\\n",
    "                    \"staggered_potential\":0.,\\\n",
    "                    \"hopping_t0\":1.0,\\\n",
    "                    \"lambda_rso\":0.0,\\\n",
    "                    \"lambda_iso\":0.1,\\\n",
    "                    \"lambda_vz\" :0.0\n",
    "                };\n",
    "\n",
    "syst2txt(syst,syst_name+\".Ham\",hopping_params);\n",
    "geo2txt(syst, graphene.lattice_vectors, syst_name+\".Geo\" );"
   ]
  },
  {
   "cell_type": "code",
   "execution_count": null,
   "metadata": {},
   "outputs": [],
   "source": []
  },
  {
   "cell_type": "code",
   "execution_count": null,
   "metadata": {},
   "outputs": [],
   "source": []
  }
 ],
 "metadata": {
  "kernelspec": {
   "display_name": "Python 3",
   "language": "python",
   "name": "python3"
  },
  "language_info": {
   "codemirror_mode": {
    "name": "ipython",
    "version": 3
   },
   "file_extension": ".py",
   "mimetype": "text/x-python",
   "name": "python",
   "nbconvert_exporter": "python",
   "pygments_lexer": "ipython3",
   "version": "3.6.9"
  }
 },
 "nbformat": 4,
 "nbformat_minor": 2
}
